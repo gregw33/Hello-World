{
 "cells": [
  {
   "cell_type": "markdown",
   "metadata": {},
   "source": [
    "This is a character creator for a simple fight game based on the D20 system in the consol. Coded by Greg Wee"
   ]
  },
  {
   "cell_type": "code",
   "execution_count": null,
   "metadata": {},
   "outputs": [],
   "source": [
    "from random import randint\n",
    "\n",
    "#Here's the common error mesage that's going to show up when anything doesn't match during creation.\n",
    "sorry  = \"I'm sorry, I don't recognize that input. Please try again.\"\n",
    "\n",
    "#defining the character that's going to be fighting\n",
    "class Character(object):\n",
    "    #these will be modified by the character creation process later.\n",
    "    hp = 0\n",
    "    attack = 0\n",
    "    defense = 0\n",
    "    damage = 4\n",
    "    damage_rand = 0\n",
    "    weapon = \"\"\n",
    "    \n",
    "    def __init__(self, name):\n",
    "        self.name = name\n",
    "    \n",
    "    def swing_attack(self):\n",
    "        roll = randint(1, 20) + self.attack\n",
    "        return roll\n",
    "    \n",
    "    def swing_damage(self):\n",
    "        roll = randint(1, self.damage_rand) + self.damage\n",
    "        \n",
    "\n",
    "#Defining the character creation process.\n",
    "def name():\n",
    "    choice = input(\"What is your name? \")\n",
    "    return choice\n",
    "\n",
    "def archetype():\n",
    "    global Player\n",
    "    choice = input(\"\"\"What kind of warrior are you, a well armored KNIGHT, a balanced FIGHTER, or a nimble DUELIST?\n",
    "    Type KNIGHT, FIGHTER, or DUELIST: \"\"\")\n",
    "    if choice.upper() == 'KNIGHT':\n",
    "        Player.hp = 100\n",
    "        Player.defense = 13\n",
    "        return\n",
    "    elif choice.upper() == 'FIGHTER':\n",
    "        Player.hp = 70\n",
    "        Player.defense = 16\n",
    "        return\n",
    "    elif choice.upper() == 'DUELIST':\n",
    "        Player.hp = 50\n",
    "        Player.defense = 19\n",
    "        return\n",
    "    else:\n",
    "        print(sorry)\n",
    "        archetype()\n",
    "        \n",
    "def weapon_choice():\n",
    "    global Player\n",
    "    choice = input(\"\"\"And what kind of weapon do you weild? A hefty BATTLEAXE, a versatile LONGSWORD, or the pinpoint SHORTSWORD?\n",
    "    Type BATTLEAXE, LONGSWORD, or SHORTSWORD: \"\"\")\n",
    "    if choice.upper() == 'BATTLEAXE':\n",
    "        Player.damage_rand = 12\n",
    "        Player.attack = 6\n",
    "        Player.weapon = 'battleaxe'\n",
    "        return\n",
    "    elif choice.upper() == 'LONGSWORD':\n",
    "        Player.damage_rand = 8\n",
    "        Player.attack = 9\n",
    "        Player.weapon = 'longsword'\n",
    "        return\n",
    "    elif choice.upper() == 'SHORTSWORD':\n",
    "        Player.damage_rand = 6\n",
    "        Player.attack = 11\n",
    "        Player.weapon = 'shortsword'\n",
    "        return\n",
    "    else:\n",
    "        print(sorry)\n",
    "        weapon_choice()\n",
    "        \n",
    "#start the character creation process\n",
    "print(\"Welcome to the fight simulator. Let's get started.\")\n",
    "Player = Character(name())\n",
    "archetype()\n",
    "weapon_choice()\n"
   ]
  },
  {
   "cell_type": "markdown",
   "metadata": {},
   "source": [
    "Enemies are defined here."
   ]
  },
  {
   "cell_type": "code",
   "execution_count": null,
   "metadata": {},
   "outputs": [],
   "source": []
  },
  {
   "cell_type": "markdown",
   "metadata": {},
   "source": [
    "Here's where the fight scripting is going to occur."
   ]
  },
  {
   "cell_type": "code",
   "execution_count": null,
   "metadata": {},
   "outputs": [],
   "source": []
  }
 ],
 "metadata": {
  "kernelspec": {
   "display_name": "Python 3",
   "language": "python",
   "name": "python3"
  },
  "language_info": {
   "codemirror_mode": {
    "name": "ipython",
    "version": 3
   },
   "file_extension": ".py",
   "mimetype": "text/x-python",
   "name": "python",
   "nbconvert_exporter": "python",
   "pygments_lexer": "ipython3",
   "version": "3.6.4"
  }
 },
 "nbformat": 4,
 "nbformat_minor": 2
}
